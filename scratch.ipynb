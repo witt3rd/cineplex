{
 "cells": [
  {
   "cell_type": "code",
   "execution_count": 14,
   "metadata": {},
   "outputs": [],
   "source": [
    "import os\n",
    "import json\n",
    "from datetime import datetime\n",
    "import redis"
   ]
  },
  {
   "cell_type": "code",
   "execution_count": 9,
   "metadata": {},
   "outputs": [],
   "source": [
    "YOUTUBE_METADATA_DIR = \"/Volumes/media/youtube/metadata\"\n",
    "YOUTUBE_THUMBNAIL_DIR = \"/Volumes/media/youtube/thumbnails\"\n",
    "YOUTUBE_VIDEO_DIR = \"/Volumes/media/youtube/videos\""
   ]
  },
  {
   "cell_type": "markdown",
   "metadata": {},
   "source": [
    "## Discover Videos"
   ]
  },
  {
   "cell_type": "code",
   "execution_count": 2,
   "metadata": {},
   "outputs": [],
   "source": [
    "files = os.listdir(YOUTUBE_VIDEO_DIR)\n",
    "print(f'found {len(files)} files in {YOUTUBE_VIDEO_DIR}')\n",
    "with open('data/files.json', 'w') as outfile:\n",
    "    json.dump(files, outfile)"
   ]
  },
  {
   "cell_type": "markdown",
   "metadata": {},
   "source": [
    "## Dedupe Videos"
   ]
  },
  {
   "cell_type": "code",
   "execution_count": 38,
   "metadata": {},
   "outputs": [
    {
     "name": "stdout",
     "output_type": "stream",
     "text": [
      "29893\n",
      "found 45 duplicate filenames\n",
      "found 50 files to remove\n",
      "29843\n"
     ]
    }
   ],
   "source": [
    "filename_idx = {}\n",
    "\n",
    "with open('data/file_list_videos.json') as json_file:\n",
    "    data = json.load(json_file)\n",
    "    print(len(data))\n",
    "    for file in data:\n",
    "        filename, ext = os.path.splitext(file)\n",
    "        if filename in filename_idx:\n",
    "            filename_idx[filename].append(ext)\n",
    "        else:\n",
    "            filename_idx[filename] = [ext]\n",
    "\n",
    "dupes = []\n",
    "for filename, extensions in filename_idx.items():\n",
    "    if len(extensions) > 1:\n",
    "        dupes.append(filename)\n",
    "\n",
    "remove = []\n",
    "print(f'found {len(dupes)} duplicate filenames')\n",
    "for dup in dupes:\n",
    "    sizes = {}\n",
    "    for ext in filename_idx[dup]:\n",
    "        size = os.path.getsize(os.path.join(YOUTUBE_VIDEO_DIR, f'{dup}{ext}'))\n",
    "        sizes[ext] = size\n",
    "\n",
    "    # if len(sizes) > 2:\n",
    "    #     print(f'{dup} has {len(sizes)} copies: {sizes}')\n",
    "\n",
    "    smallest = min(sizes, key=sizes.get)\n",
    "\n",
    "    # print(f'Keeping: {dup}{smallest} @ {sizes[smallest]}')\n",
    "    sizes.pop(smallest)\n",
    "    for ext in sizes:\n",
    "        # print(f'Removing: {dup}{ext} @ {sizes[ext]}')\n",
    "        remove.append(f'{dup}{ext}')\n",
    "\n",
    "print(f'found {len(remove)} files to remove')\n",
    "\n",
    "for file in remove:\n",
    "    os.remove(os.path.join(YOUTUBE_VIDEO_DIR, file))\n",
    "    data.remove(file)\n",
    "\n",
    "print(len(data))\n",
    "\n",
    "# write the json file\n",
    "with open('data/file_list_videos_deduped.json', 'w') as outfile:\n",
    "    json.dump(data, outfile)"
   ]
  },
  {
   "cell_type": "markdown",
   "metadata": {},
   "source": [
    "## Missing Ids"
   ]
  },
  {
   "cell_type": "code",
   "execution_count": 50,
   "metadata": {},
   "outputs": [
    {
     "name": "stdout",
     "output_type": "stream",
     "text": [
      "found 6 fragments\n",
      "{'UPIVxo6fo3M', 'eZ1rpiEy6Ic', 'd7OxfJZOIhQ', 'dgG10nN6oDM', 'zWxSZcpeS8Q', 'b8cFILGrUo0'}\n"
     ]
    }
   ],
   "source": [
    "fragments = set()\n",
    "\n",
    "with open('data/file_list_videos_deduped.json') as json_file:\n",
    "    data = json.load(json_file)\n",
    "\n",
    "    for file in data:\n",
    "        filename, ext = os.path.splitext(file)\n",
    "\n",
    "        # extract the youtube id from the filename\n",
    "        id = filename[-12:]\n",
    "\n",
    "        # handle fragments\n",
    "        if '.' in id:\n",
    "            filename, ext = os.path.splitext(filename)\n",
    "            id = filename[-11:]\n",
    "            fragments.add(id)\n",
    "\n",
    "        elif id[0] != '-':\n",
    "            print(f'{id}|{filename}')\n",
    "\n",
    "print(f'found {len(fragments)} fragments')\n",
    "print(fragments)\n",
    "\n",
    "# write the json file\n",
    "with open('data/fragments.json', 'w') as outfile:\n",
    "    json.dump(list(fragments), outfile)"
   ]
  },
  {
   "cell_type": "code",
   "execution_count": 39,
   "metadata": {},
   "outputs": [
    {
     "data": {
      "text/plain": [
       "12"
      ]
     },
     "execution_count": 39,
     "metadata": {},
     "output_type": "execute_result"
    }
   ],
   "source": [
    "len(\"-y7DXX6_RBz8\")\n",
    "# # rename file\n",
    "# os.rename(os.path.join(YOUTUBE_VIDEO_DIR, old_file), os.path.join(YOUTUBE_VIDEO_DIR, new_file))"
   ]
  },
  {
   "cell_type": "code",
   "execution_count": null,
   "metadata": {},
   "outputs": [],
   "source": [
    "    # # Get channel details\n",
    "    # request = youtube.channels().list(\n",
    "    #     part=\"snippet,contentDetails,statistics\",\n",
    "    #     mine=True\n",
    "    #     # id=\"UCqsUJL5xIWuidR7sIrPLhAw\",\n",
    "    # )\n",
    "    # request = youtube.search().list(\n",
    "    #     channelId = CHANNEL_ID,\n",
    "    #     part = 'id,snippet',\n",
    "    #     type = 'video',\n",
    "    #     publishedAfter = '2018-12-31T23:59:59Z',\n",
    "    #     publishedBefore = '2020-01-01T00:00:00Z',\n",
    "    #     order = 'date',\n",
    "    #     fields = 'nextPageToken,items(id,snippet)',\n",
    "    #     maxResults = 50\n",
    "    # )\n",
    "    # video_data = {}\n"
   ]
  }
 ],
 "metadata": {
  "interpreter": {
   "hash": "ccf20a9f0f41ab70de1e751dc2d6d0f1188277d7e1b89d3e803becd18cd66bba"
  },
  "kernelspec": {
   "display_name": "Python 3.9.9 64-bit ('.venv': poetry)",
   "language": "python",
   "name": "python3"
  },
  "language_info": {
   "codemirror_mode": {
    "name": "ipython",
    "version": 3
   },
   "file_extension": ".py",
   "mimetype": "text/x-python",
   "name": "python",
   "nbconvert_exporter": "python",
   "pygments_lexer": "ipython3",
   "version": "3.9.9"
  },
  "orig_nbformat": 4
 },
 "nbformat": 4,
 "nbformat_minor": 2
}

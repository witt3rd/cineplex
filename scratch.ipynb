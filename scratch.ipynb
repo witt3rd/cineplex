{
 "cells": [
  {
   "cell_type": "code",
   "execution_count": 6,
   "metadata": {},
   "outputs": [],
   "source": [
    "import json\n",
    "import redis"
   ]
  },
  {
   "cell_type": "code",
   "execution_count": 9,
   "metadata": {},
   "outputs": [],
   "source": [
    "def save_playlists(channel_id, playlists):\n",
    "    r = redis.Redis(host='localhost', port=6379, db=0)\n",
    "    r.set(channel_id, json.dumps(playlists))"
   ]
  },
  {
   "cell_type": "code",
   "execution_count": 29,
   "metadata": {},
   "outputs": [
    {
     "name": "stdout",
     "output_type": "stream",
     "text": [
      "57\n",
      "⏰ Watch Later @ 2020-11-23T13:36:51Z (963)\n",
      "🧰 Crazy Makers @ 2020-02-24T00:06:24Z (558)\n",
      "❤️ Poos @ 2019-10-31T20:30:02Z (550)\n",
      "🎮 Unity @ 2019-06-22T19:04:33Z (382)\n",
      "🎧 Listen @ 2020-01-20T17:25:12Z (370)\n",
      "💻 Code: CPP @ 2021-09-13T11:10:20Z (155)\n",
      "🧘🏻‍♂️ Awaken @ 2016-11-12T16:47:44Z (130)\n",
      "🕹️ Video Games @ 2020-12-21T20:30:55Z (125)\n",
      "🍹 Blender @ 2019-11-02T07:39:48Z (103)\n",
      "₿ DLT @ 2021-11-24T03:30:45Z (102)\n",
      "🐍 Python @ 2021-08-15T07:09:05Z (101)\n",
      "💻 Code @ 2020-01-20T17:25:34Z (86)\n",
      "HoTT @ 2020-01-20T17:15:39Z (68)\n",
      "🎵 Compose @ 2017-10-11T18:42:11Z (62)\n",
      "🎮 Unity: Singletons @ 2021-08-21T15:13:03Z (57)\n",
      "⭐ Favorites @ 2012-03-17T15:27:14Z (57)\n",
      "👩‍🍳 Pooga Cooks @ 2020-04-03T03:35:38Z (48)\n",
      "💻 Code: Functional Programming @ 2020-10-11T16:08:00Z (45)\n",
      "Ben Eater - 8-bit CPU @ 2020-11-01T16:58:31Z (44)\n",
      "🎵 Compose: Ableton @ 2021-07-07T20:02:17Z (42)\n",
      "🎰 MDP @ 2021-11-08T14:32:09Z (41)\n",
      "⌨️ Emacs @ 2021-09-08T13:44:30Z (41)\n",
      "🔧 Machining @ 2021-08-05T08:45:40Z (41)\n",
      "🖨️ 3D Printing @ 2021-07-21T10:08:18Z (40)\n",
      "Svelte @ 2021-08-28T16:50:46Z (39)\n",
      "💻 Code: Idris @ 2020-08-16T06:05:10Z (35)\n",
      "🔊 YT Music @ 2020-04-09T15:37:01Z (34)\n",
      "🔫 Ray @ 2021-11-17T14:58:33Z (33)\n",
      "Stain @ 2021-09-16T19:40:18Z (33)\n",
      "🎮 Unity: Ragdoll @ 2021-01-29T13:12:08Z (31)\n",
      "Physics @ 2017-10-27T21:18:36Z (29)\n",
      "📚 Books @ 2021-07-15T09:30:53Z (28)\n",
      "🎮 Unity: DOTS @ 2021-08-23T21:46:22Z (26)\n",
      "⚡ Electronics @ 2021-08-09T14:14:53Z (26)\n",
      "🐉 Basilisk Trailer @ 2021-06-22T13:57:09Z (26)\n",
      "🎮 Unity: Scriptable Objects @ 2021-08-22T02:14:30Z (25)\n",
      "🚀 Paradox Shift @ 2021-01-11T00:23:07Z (25)\n",
      "🧩 Poodoku @ 2021-11-28T04:24:35Z (24)\n",
      "👽 E.T. @ 2020-05-05T03:09:48Z (21)\n",
      "📚 Books: House of Leaves @ 2021-07-26T03:22:42Z (19)\n",
      "🤖 DL @ 2021-11-21T21:07:02Z (18)\n",
      "🤖 Robotics @ 2021-07-24T09:42:29Z (16)\n",
      "🐱 Cats: Yoneda @ 2020-04-02T11:20:09Z (16)\n",
      "🕵️‍♂️ ex nihilo @ 2019-09-30T20:33:18Z (16)\n",
      "💻 Code: DevOps @ 2021-09-05T14:46:34Z (15)\n",
      "💻 Code: Data-Oriented @ 2021-08-24T11:49:20Z (15)\n",
      "Flash Loan @ 2021-11-27T15:15:49Z (12)\n",
      "📺 Video Ideas @ 2020-02-24T02:23:58Z (11)\n",
      "TV & Movies (Acting) @ 2020-03-30T23:32:34Z (10)\n",
      "📽 Movies @ 2021-08-31T18:35:14Z (9)\n",
      "🛡️ Sparta @ 2021-11-25T16:38:52Z (8)\n",
      "God @ 2021-10-27T13:13:45Z (8)\n",
      "🕹️ Video Games: RPG Math @ 2020-11-23T13:20:36Z (6)\n",
      "Home Movies @ 2020-03-30T23:30:25Z (5)\n",
      "🐱 Cats: Probability @ 2020-12-03T13:39:30Z (4)\n",
      "Short Films @ 2020-03-30T23:32:59Z (1)\n",
      "🧪 GenSyn @ 2021-07-09T09:59:30Z (0)\n"
     ]
    }
   ],
   "source": [
    "# read json file\n",
    "with open('playlists.json') as f:\n",
    "    playlists = json.load(f)\n",
    "    print(len(playlists))\n",
    "    # sort by date\n",
    "    playlists.sort(key=lambda x: x['contentDetails']['itemCount'], reverse=True)\n",
    "    for playlist in playlists:\n",
    "        snippet = playlist['snippet']\n",
    "        contentDetails = playlist['contentDetails']\n",
    "        print(f'{snippet[\"title\"]} @ {snippet[\"publishedAt\"]} ({contentDetails[\"itemCount\"]})')\n",
    "        \n",
    "    # save the playlists in redis\n",
    "    # save_playlists('UCqsUJL5xIWuidR7sIrPLhAw', playlists)    \n"
   ]
  },
  {
   "cell_type": "code",
   "execution_count": null,
   "metadata": {},
   "outputs": [],
   "source": [
    "    # # Get channel details\n",
    "    # request = youtube.channels().list(\n",
    "    #     part=\"snippet,contentDetails,statistics\",\n",
    "    #     mine=True\n",
    "    #     # id=\"UCqsUJL5xIWuidR7sIrPLhAw\",\n",
    "    # )\n",
    "    # request = youtube.search().list(\n",
    "    #     channelId = CHANNEL_ID,\n",
    "    #     part = 'id,snippet',\n",
    "    #     type = 'video',\n",
    "    #     publishedAfter = '2018-12-31T23:59:59Z',\n",
    "    #     publishedBefore = '2020-01-01T00:00:00Z',\n",
    "    #     order = 'date',\n",
    "    #     fields = 'nextPageToken,items(id,snippet)',\n",
    "    #     maxResults = 50\n",
    "    # )\n",
    "    # video_data = {}\n"
   ]
  }
 ],
 "metadata": {
  "interpreter": {
   "hash": "ccf20a9f0f41ab70de1e751dc2d6d0f1188277d7e1b89d3e803becd18cd66bba"
  },
  "kernelspec": {
   "display_name": "Python 3.9.9 64-bit ('.venv': poetry)",
   "language": "python",
   "name": "python3"
  },
  "language_info": {
   "codemirror_mode": {
    "name": "ipython",
    "version": 3
   },
   "file_extension": ".py",
   "mimetype": "text/x-python",
   "name": "python",
   "nbconvert_exporter": "python",
   "pygments_lexer": "ipython3",
   "version": "3.9.9"
  },
  "orig_nbformat": 4
 },
 "nbformat": 4,
 "nbformat_minor": 2
}
